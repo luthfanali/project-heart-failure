{
 "cells": [
  {
   "cell_type": "markdown",
   "id": "282e70fa-fd36-4969-bc97-cc0d14bff3c3",
   "metadata": {},
   "source": [
    "# Prediksi Gagal Jantung"
   ]
  },
  {
   "cell_type": "markdown",
   "id": "3cc427a9-bb77-48a6-b205-f69500fd5fe9",
   "metadata": {},
   "source": [
    "## Import Data"
   ]
  },
  {
   "cell_type": "code",
   "execution_count": 1,
   "id": "f77d6e06-32eb-40af-b4ad-00f9895ac00f",
   "metadata": {
    "tags": []
   },
   "outputs": [],
   "source": [
    "# Import library pengolahan struktur data\n",
    "import pandas as pd\n",
    "\n",
    "# Import library pengolahan angka\n",
    "import numpy as np"
   ]
  },
  {
   "cell_type": "code",
   "execution_count": 2,
   "id": "24d7134e-3fc0-41aa-9048-9d68f590a92b",
   "metadata": {
    "tags": []
   },
   "outputs": [
    {
     "name": "stdout",
     "output_type": "stream",
     "text": [
      "Source data :  /home/jovyan/work/project/heart_failure_clinical_records_dataset.csv\n",
      "Data asli :  (299, 13) (observasi, kolom)\n",
      "Data setelah drop dulikat : (299, 13) (observasi, kolom)\n"
     ]
    }
   ],
   "source": [
    "## Bikin Fungsinya\n",
    "def import_data(filename):\n",
    "    \"\"\"\n",
    "    Fungsi import data dan hapus duplikat\n",
    "    :param filename: string nama file.csv\n",
    "    :return df: <pandas data frame> sampel data\n",
    "    \"\"\"\n",
    "    \n",
    "    # print nama file\n",
    "    print(\"Source data : \",filename)\n",
    "    \n",
    "    # read data\n",
    "    df = pd.read_csv(filename)\n",
    "    print(\"Data asli : \",df.shape,\"(observasi, kolom)\")\n",
    "    \n",
    "    # hapus duplikat\n",
    "    df = df.drop_duplicates()\n",
    "    print(\"Data setelah drop dulikat :\",df.shape,\"(observasi, kolom)\")\n",
    "    \n",
    "    #jangan lupa return\n",
    "    return df\n",
    "    \n",
    "# state lokasi file\n",
    "data_src = \"/home/jovyan/work/project/heart_failure_clinical_records_dataset.csv\"\n",
    "\n",
    "# jalankan import data\n",
    "heartfail_df = import_data(filename = data_src)"
   ]
  },
  {
   "cell_type": "code",
   "execution_count": 3,
   "id": "ae701de1-16a3-4ae0-aa9d-6f82ab6c2f7d",
   "metadata": {
    "tags": []
   },
   "outputs": [
    {
     "data": {
      "text/html": [
       "<div>\n",
       "<style scoped>\n",
       "    .dataframe tbody tr th:only-of-type {\n",
       "        vertical-align: middle;\n",
       "    }\n",
       "\n",
       "    .dataframe tbody tr th {\n",
       "        vertical-align: top;\n",
       "    }\n",
       "\n",
       "    .dataframe thead th {\n",
       "        text-align: right;\n",
       "    }\n",
       "</style>\n",
       "<table border=\"1\" class=\"dataframe\">\n",
       "  <thead>\n",
       "    <tr style=\"text-align: right;\">\n",
       "      <th></th>\n",
       "      <th>age</th>\n",
       "      <th>anaemia</th>\n",
       "      <th>creatinine_phosphokinase</th>\n",
       "      <th>diabetes</th>\n",
       "      <th>ejection_fraction</th>\n",
       "      <th>high_blood_pressure</th>\n",
       "      <th>platelets</th>\n",
       "      <th>serum_creatinine</th>\n",
       "      <th>serum_sodium</th>\n",
       "      <th>sex</th>\n",
       "      <th>smoking</th>\n",
       "      <th>time</th>\n",
       "      <th>DEATH_EVENT</th>\n",
       "    </tr>\n",
       "  </thead>\n",
       "  <tbody>\n",
       "    <tr>\n",
       "      <th>0</th>\n",
       "      <td>75.0</td>\n",
       "      <td>0</td>\n",
       "      <td>582</td>\n",
       "      <td>0</td>\n",
       "      <td>20</td>\n",
       "      <td>1</td>\n",
       "      <td>265000.00</td>\n",
       "      <td>1.9</td>\n",
       "      <td>130</td>\n",
       "      <td>1</td>\n",
       "      <td>0</td>\n",
       "      <td>4</td>\n",
       "      <td>1</td>\n",
       "    </tr>\n",
       "    <tr>\n",
       "      <th>1</th>\n",
       "      <td>55.0</td>\n",
       "      <td>0</td>\n",
       "      <td>7861</td>\n",
       "      <td>0</td>\n",
       "      <td>38</td>\n",
       "      <td>0</td>\n",
       "      <td>263358.03</td>\n",
       "      <td>1.1</td>\n",
       "      <td>136</td>\n",
       "      <td>1</td>\n",
       "      <td>0</td>\n",
       "      <td>6</td>\n",
       "      <td>1</td>\n",
       "    </tr>\n",
       "    <tr>\n",
       "      <th>2</th>\n",
       "      <td>65.0</td>\n",
       "      <td>0</td>\n",
       "      <td>146</td>\n",
       "      <td>0</td>\n",
       "      <td>20</td>\n",
       "      <td>0</td>\n",
       "      <td>162000.00</td>\n",
       "      <td>1.3</td>\n",
       "      <td>129</td>\n",
       "      <td>1</td>\n",
       "      <td>1</td>\n",
       "      <td>7</td>\n",
       "      <td>1</td>\n",
       "    </tr>\n",
       "    <tr>\n",
       "      <th>3</th>\n",
       "      <td>50.0</td>\n",
       "      <td>1</td>\n",
       "      <td>111</td>\n",
       "      <td>0</td>\n",
       "      <td>20</td>\n",
       "      <td>0</td>\n",
       "      <td>210000.00</td>\n",
       "      <td>1.9</td>\n",
       "      <td>137</td>\n",
       "      <td>1</td>\n",
       "      <td>0</td>\n",
       "      <td>7</td>\n",
       "      <td>1</td>\n",
       "    </tr>\n",
       "    <tr>\n",
       "      <th>4</th>\n",
       "      <td>65.0</td>\n",
       "      <td>1</td>\n",
       "      <td>160</td>\n",
       "      <td>1</td>\n",
       "      <td>20</td>\n",
       "      <td>0</td>\n",
       "      <td>327000.00</td>\n",
       "      <td>2.7</td>\n",
       "      <td>116</td>\n",
       "      <td>0</td>\n",
       "      <td>0</td>\n",
       "      <td>8</td>\n",
       "      <td>1</td>\n",
       "    </tr>\n",
       "  </tbody>\n",
       "</table>\n",
       "</div>"
      ],
      "text/plain": [
       "    age  anaemia  creatinine_phosphokinase  diabetes  ejection_fraction  \\\n",
       "0  75.0        0                       582         0                 20   \n",
       "1  55.0        0                      7861         0                 38   \n",
       "2  65.0        0                       146         0                 20   \n",
       "3  50.0        1                       111         0                 20   \n",
       "4  65.0        1                       160         1                 20   \n",
       "\n",
       "   high_blood_pressure  platelets  serum_creatinine  serum_sodium  sex  \\\n",
       "0                    1  265000.00               1.9           130    1   \n",
       "1                    0  263358.03               1.1           136    1   \n",
       "2                    0  162000.00               1.3           129    1   \n",
       "3                    0  210000.00               1.9           137    1   \n",
       "4                    0  327000.00               2.7           116    0   \n",
       "\n",
       "   smoking  time  DEATH_EVENT  \n",
       "0        0     4            1  \n",
       "1        0     6            1  \n",
       "2        1     7            1  \n",
       "3        0     7            1  \n",
       "4        0     8            1  "
      ]
     },
     "execution_count": 3,
     "metadata": {},
     "output_type": "execute_result"
    }
   ],
   "source": [
    "heartfail_df.head()"
   ]
  },
  {
   "cell_type": "markdown",
   "id": "95935d98-3a1b-4125-9ed2-8644c4278152",
   "metadata": {
    "tags": []
   },
   "source": [
    "## Data Preprocessing"
   ]
  },
  {
   "cell_type": "markdown",
   "id": "b59cc8b9-4332-46d9-a86e-75fdda079b8c",
   "metadata": {
    "tags": []
   },
   "source": [
    "### Input-output Split"
   ]
  },
  {
   "cell_type": "code",
   "execution_count": 4,
   "id": "21f709e0-5a3b-49f8-b3e0-fe8a4ffcf513",
   "metadata": {
    "tags": []
   },
   "outputs": [],
   "source": [
    "# fungsi ekstrak\n",
    "def extract_input_output(data, \n",
    "                         output_column_name):\n",
    "    \"\"\"\n",
    "    Fungsi untuk memisahkan data input dan output, dengan hanya memasukkan data master dan kolom output\n",
    "    :param data: <pandas data frame> data seluruh sample\n",
    "    :param output_column_name: <string> nama kolom output\n",
    "    :return input_data: <pandas dataframe> data input\n",
    "    :return output_data: <pandas dataframe> data output\n",
    "    \"\"\"\n",
    "    \n",
    "    output_data = data[output_column_name]\n",
    "    input_data = data.drop(output_column_name,\n",
    "                           axis = 1)\n",
    "    \n",
    "    return input_data, output_data\n",
    "\n",
    "x, y = extract_input_output(data = heartfail_df,\n",
    "                            output_column_name = 'DEATH_EVENT')"
   ]
  },
  {
   "cell_type": "markdown",
   "id": "3123a5f0-07f9-439f-802b-9b38a96f0a68",
   "metadata": {},
   "source": [
    "### Train-test split"
   ]
  },
  {
   "cell_type": "code",
   "execution_count": 5,
   "id": "ad76e09a-00df-4b38-a24c-8bcea78eef4d",
   "metadata": {
    "tags": []
   },
   "outputs": [],
   "source": [
    "# Import train-test splitting library dari sklearn (scikit learn)\n",
    "from sklearn.model_selection import train_test_split\n",
    "\n",
    "# Train test split\n",
    "x_train, x_test, y_train, y_test = train_test_split(x, y,\n",
    "                                                    test_size = 0.25,\n",
    "                                                    random_state = 12)"
   ]
  },
  {
   "cell_type": "code",
   "execution_count": 6,
   "id": "6f756d6f-283b-49a1-a2cf-b9c804c814d4",
   "metadata": {
    "tags": []
   },
   "outputs": [
    {
     "name": "stdout",
     "output_type": "stream",
     "text": [
      "(224, 12)\n",
      "(75, 12)\n"
     ]
    }
   ],
   "source": [
    "# Sanity check hasil splitting\n",
    "print(x_train.shape)\n",
    "print(x_test.shape)"
   ]
  },
  {
   "cell_type": "code",
   "execution_count": 7,
   "id": "e2e96654-c032-472a-9831-7592d178ddfa",
   "metadata": {
    "tags": []
   },
   "outputs": [
    {
     "data": {
      "text/plain": [
       "0.2508361204013378"
      ]
     },
     "execution_count": 7,
     "metadata": {},
     "output_type": "execute_result"
    }
   ],
   "source": [
    "# Ratio\n",
    "x_test.shape[0] / x.shape[0]"
   ]
  },
  {
   "cell_type": "code",
   "execution_count": 8,
   "id": "9158eca3-952c-46af-8071-c8233a3cb177",
   "metadata": {
    "tags": []
   },
   "outputs": [
    {
     "data": {
      "text/plain": [
       "age                         False\n",
       "anaemia                     False\n",
       "creatinine_phosphokinase    False\n",
       "diabetes                    False\n",
       "ejection_fraction           False\n",
       "high_blood_pressure         False\n",
       "platelets                   False\n",
       "serum_creatinine            False\n",
       "serum_sodium                False\n",
       "sex                         False\n",
       "smoking                     False\n",
       "time                        False\n",
       "dtype: bool"
      ]
     },
     "execution_count": 8,
     "metadata": {},
     "output_type": "execute_result"
    }
   ],
   "source": [
    "x_train.isnull().any()"
   ]
  },
  {
   "cell_type": "markdown",
   "id": "9bd56437-b35f-4a27-ac80-2402f97485bd",
   "metadata": {},
   "source": [
    "### Cek heatmap"
   ]
  },
  {
   "cell_type": "code",
   "execution_count": 9,
   "id": "6c71cc92-74f8-41fe-a864-1c80d464d6a3",
   "metadata": {
    "tags": []
   },
   "outputs": [
    {
     "data": {
      "image/png": "[encoded data removed]",
      "text/plain": [
       "<Figure size 1000x1000 with 2 Axes>"
      ]
     },
     "metadata": {},
     "output_type": "display_data"
    }
   ],
   "source": [
    "import matplotlib.pyplot as plt\n",
    "import seaborn as sns\n",
    "\n",
    "plt.figure(figsize=(10,10))\n",
    "sns.heatmap(heartfail_df.corr(), vmin=-1, cmap='coolwarm', annot=True);"
   ]
  },
  {
   "cell_type": "markdown",
   "id": "38fd48e1-dcf6-41de-8342-e04eda179e50",
   "metadata": {},
   "source": [
    "### Standarizer Variable"
   ]
  },
  {
   "cell_type": "code",
   "execution_count": 10,
   "id": "df857ce0-9f85-429b-b681-b25f96a79260",
   "metadata": {
    "tags": []
   },
   "outputs": [],
   "source": [
    "from sklearn.preprocessing import StandardScaler\n",
    "\n",
    "# Buat fungsi\n",
    "def standardizerData(data):\n",
    "    \"\"\"\n",
    "    Fungsi untuk melakukan standarisasi data\n",
    "    :param data: <pandas dataframe> sampel data\n",
    "    :return standardized_data: <pandas dataframe> sampel data standard\n",
    "    :return standardizer: method untuk standardisasi data\n",
    "    \"\"\"\n",
    "    data_columns = data.columns  # agar nama kolom tidak hilang\n",
    "    data_index = data.index  # agar index tidak hilang\n",
    "\n",
    "    # buat (fit) standardizer\n",
    "    standardizer = StandardScaler()\n",
    "    standardizer.fit(data)\n",
    "\n",
    "    # transform data\n",
    "    standardized_data_raw = standardizer.transform(data)\n",
    "    standardized_data = pd.DataFrame(standardized_data_raw)\n",
    "    standardized_data.columns = data_columns\n",
    "    standardized_data.index = data_index\n",
    "\n",
    "    return standardized_data, standardizer"
   ]
  },
  {
   "cell_type": "code",
   "execution_count": 11,
   "id": "9cdcbf60-dbb6-49aa-b781-f4d09f63b849",
   "metadata": {
    "tags": []
   },
   "outputs": [],
   "source": [
    "x_train_clean, standardizer = standardizerData(data = x_train)"
   ]
  },
  {
   "cell_type": "code",
   "execution_count": 12,
   "id": "3b6951d0-a2ca-484f-841a-beedfaf1af95",
   "metadata": {
    "tags": []
   },
   "outputs": [
    {
     "data": {
      "text/html": [
       "<div>\n",
       "<style scoped>\n",
       "    .dataframe tbody tr th:only-of-type {\n",
       "        vertical-align: middle;\n",
       "    }\n",
       "\n",
       "    .dataframe tbody tr th {\n",
       "        vertical-align: top;\n",
       "    }\n",
       "\n",
       "    .dataframe thead th {\n",
       "        text-align: right;\n",
       "    }\n",
       "</style>\n",
       "<table border=\"1\" class=\"dataframe\">\n",
       "  <thead>\n",
       "    <tr style=\"text-align: right;\">\n",
       "      <th></th>\n",
       "      <th>age</th>\n",
       "      <th>anaemia</th>\n",
       "      <th>creatinine_phosphokinase</th>\n",
       "      <th>diabetes</th>\n",
       "      <th>ejection_fraction</th>\n",
       "      <th>high_blood_pressure</th>\n",
       "      <th>platelets</th>\n",
       "      <th>serum_creatinine</th>\n",
       "      <th>serum_sodium</th>\n",
       "      <th>sex</th>\n",
       "      <th>smoking</th>\n",
       "      <th>time</th>\n",
       "    </tr>\n",
       "  </thead>\n",
       "  <tbody>\n",
       "    <tr>\n",
       "      <th>205</th>\n",
       "      <td>-0.943131</td>\n",
       "      <td>1.123666</td>\n",
       "      <td>-0.446449</td>\n",
       "      <td>1.123666</td>\n",
       "      <td>0.653262</td>\n",
       "      <td>-0.723747</td>\n",
       "      <td>0.975605</td>\n",
       "      <td>-0.397082</td>\n",
       "      <td>-0.108976</td>\n",
       "      <td>-1.328696</td>\n",
       "      <td>-0.695301</td>\n",
       "      <td>0.732795</td>\n",
       "    </tr>\n",
       "    <tr>\n",
       "      <th>233</th>\n",
       "      <td>-0.690258</td>\n",
       "      <td>1.123666</td>\n",
       "      <td>0.123552</td>\n",
       "      <td>-0.889944</td>\n",
       "      <td>0.041731</td>\n",
       "      <td>-0.723747</td>\n",
       "      <td>0.658760</td>\n",
       "      <td>0.033964</td>\n",
       "      <td>0.119160</td>\n",
       "      <td>0.752618</td>\n",
       "      <td>1.438226</td>\n",
       "      <td>1.020198</td>\n",
       "    </tr>\n",
       "    <tr>\n",
       "      <th>38</th>\n",
       "      <td>-0.100221</td>\n",
       "      <td>-0.889944</td>\n",
       "      <td>2.180832</td>\n",
       "      <td>1.123666</td>\n",
       "      <td>-0.657162</td>\n",
       "      <td>-0.723747</td>\n",
       "      <td>0.411225</td>\n",
       "      <td>1.003818</td>\n",
       "      <td>0.119160</td>\n",
       "      <td>0.752618</td>\n",
       "      <td>-0.695301</td>\n",
       "      <td>-1.318215</td>\n",
       "    </tr>\n",
       "    <tr>\n",
       "      <th>24</th>\n",
       "      <td>1.164144</td>\n",
       "      <td>-0.889944</td>\n",
       "      <td>-0.008393</td>\n",
       "      <td>1.123666</td>\n",
       "      <td>-0.657162</td>\n",
       "      <td>1.381699</td>\n",
       "      <td>-0.001089</td>\n",
       "      <td>0.497339</td>\n",
       "      <td>-0.565247</td>\n",
       "      <td>-1.328696</td>\n",
       "      <td>-0.695301</td>\n",
       "      <td>-1.409661</td>\n",
       "    </tr>\n",
       "    <tr>\n",
       "      <th>178</th>\n",
       "      <td>0.152652</td>\n",
       "      <td>1.123666</td>\n",
       "      <td>-0.493949</td>\n",
       "      <td>1.123666</td>\n",
       "      <td>1.963687</td>\n",
       "      <td>-0.723747</td>\n",
       "      <td>0.034972</td>\n",
       "      <td>-0.181559</td>\n",
       "      <td>1.944247</td>\n",
       "      <td>0.752618</td>\n",
       "      <td>-0.695301</td>\n",
       "      <td>0.210245</td>\n",
       "    </tr>\n",
       "  </tbody>\n",
       "</table>\n",
       "</div>"
      ],
      "text/plain": [
       "          age   anaemia  creatinine_phosphokinase  diabetes  \\\n",
       "205 -0.943131  1.123666                 -0.446449  1.123666   \n",
       "233 -0.690258  1.123666                  0.123552 -0.889944   \n",
       "38  -0.100221 -0.889944                  2.180832  1.123666   \n",
       "24   1.164144 -0.889944                 -0.008393  1.123666   \n",
       "178  0.152652  1.123666                 -0.493949  1.123666   \n",
       "\n",
       "     ejection_fraction  high_blood_pressure  platelets  serum_creatinine  \\\n",
       "205           0.653262            -0.723747   0.975605         -0.397082   \n",
       "233           0.041731            -0.723747   0.658760          0.033964   \n",
       "38           -0.657162            -0.723747   0.411225          1.003818   \n",
       "24           -0.657162             1.381699  -0.001089          0.497339   \n",
       "178           1.963687            -0.723747   0.034972         -0.181559   \n",
       "\n",
       "     serum_sodium       sex   smoking      time  \n",
       "205     -0.108976 -1.328696 -0.695301  0.732795  \n",
       "233      0.119160  0.752618  1.438226  1.020198  \n",
       "38       0.119160  0.752618 -0.695301 -1.318215  \n",
       "24      -0.565247 -1.328696 -0.695301 -1.409661  \n",
       "178      1.944247  0.752618 -0.695301  0.210245  "
      ]
     },
     "execution_count": 12,
     "metadata": {},
     "output_type": "execute_result"
    }
   ],
   "source": [
    "x_train_clean.head()"
   ]
  },
  {
   "cell_type": "markdown",
   "id": "d517a123-5857-4de5-8ad3-947a772659cb",
   "metadata": {},
   "source": [
    "## Training Model"
   ]
  },
  {
   "cell_type": "code",
   "execution_count": 13,
   "id": "87fd6abe-f3db-4d33-94f7-7ce204e61276",
   "metadata": {
    "tags": []
   },
   "outputs": [
    {
     "data": {
      "text/plain": [
       "0    0.6875\n",
       "1    0.3125\n",
       "Name: DEATH_EVENT, dtype: float64"
      ]
     },
     "execution_count": 13,
     "metadata": {},
     "output_type": "execute_result"
    }
   ],
   "source": [
    "y_train.value_counts(normalize = True)"
   ]
  },
  {
   "cell_type": "code",
   "execution_count": 14,
   "id": "e5a03fd6-b330-4c02-97a6-8522c4161530",
   "metadata": {
    "tags": []
   },
   "outputs": [],
   "source": [
    "# Import dari sklearn\n",
    "from sklearn.neighbors import KNeighborsClassifier\n",
    "from sklearn.linear_model import LogisticRegression\n",
    "from sklearn.ensemble import RandomForestClassifier"
   ]
  },
  {
   "cell_type": "code",
   "execution_count": 15,
   "id": "4d9bc256-6d19-465c-a660-889de87d8961",
   "metadata": {
    "tags": []
   },
   "outputs": [
    {
     "data": {
      "text/html": [
       "<style>#sk-container-id-1 {color: black;background-color: white;}#sk-container-id-1 pre{padding: 0;}#sk-container-id-1 div.sk-toggleable {background-color: white;}#sk-container-id-1 label.sk-toggleable__label {cursor: pointer;display: block;width: 100%;margin-bottom: 0;padding: 0.3em;box-sizing: border-box;text-align: center;}#sk-container-id-1 label.sk-toggleable__label-arrow:before {content: \"▸\";float: left;margin-right: 0.25em;color: #696969;}#sk-container-id-1 label.sk-toggleable__label-arrow:hover:before {color: black;}#sk-container-id-1 div.sk-estimator:hover label.sk-toggleable__label-arrow:before {color: black;}#sk-container-id-1 div.sk-toggleable__content {max-height: 0;max-width: 0;overflow: hidden;text-align: left;background-color: #f0f8ff;}#sk-container-id-1 div.sk-toggleable__content pre {margin: 0.2em;color: black;border-radius: 0.25em;background-color: #f0f8ff;}#sk-container-id-1 input.sk-toggleable__control:checked~div.sk-toggleable__content {max-height: 200px;max-width: 100%;overflow: auto;}#sk-container-id-1 input.sk-toggleable__control:checked~label.sk-toggleable__label-arrow:before {content: \"▾\";}#sk-container-id-1 div.sk-estimator input.sk-toggleable__control:checked~label.sk-toggleable__label {background-color: #d4ebff;}#sk-container-id-1 div.sk-label input.sk-toggleable__control:checked~label.sk-toggleable__label {background-color: #d4ebff;}#sk-container-id-1 input.sk-hidden--visually {border: 0;clip: rect(1px 1px 1px 1px);clip: rect(1px, 1px, 1px, 1px);height: 1px;margin: -1px;overflow: hidden;padding: 0;position: absolute;width: 1px;}#sk-container-id-1 div.sk-estimator {font-family: monospace;background-color: #f0f8ff;border: 1px dotted black;border-radius: 0.25em;box-sizing: border-box;margin-bottom: 0.5em;}#sk-container-id-1 div.sk-estimator:hover {background-color: #d4ebff;}#sk-container-id-1 div.sk-parallel-item::after {content: \"\";width: 100%;border-bottom: 1px solid gray;flex-grow: 1;}#sk-container-id-1 div.sk-label:hover label.sk-toggleable__label {background-color: #d4ebff;}#sk-container-id-1 div.sk-serial::before {content: \"\";position: absolute;border-left: 1px solid gray;box-sizing: border-box;top: 0;bottom: 0;left: 50%;z-index: 0;}#sk-container-id-1 div.sk-serial {display: flex;flex-direction: column;align-items: center;background-color: white;padding-right: 0.2em;padding-left: 0.2em;position: relative;}#sk-container-id-1 div.sk-item {position: relative;z-index: 1;}#sk-container-id-1 div.sk-parallel {display: flex;align-items: stretch;justify-content: center;background-color: white;position: relative;}#sk-container-id-1 div.sk-item::before, #sk-container-id-1 div.sk-parallel-item::before {content: \"\";position: absolute;border-left: 1px solid gray;box-sizing: border-box;top: 0;bottom: 0;left: 50%;z-index: -1;}#sk-container-id-1 div.sk-parallel-item {display: flex;flex-direction: column;z-index: 1;position: relative;background-color: white;}#sk-container-id-1 div.sk-parallel-item:first-child::after {align-self: flex-end;width: 50%;}#sk-container-id-1 div.sk-parallel-item:last-child::after {align-self: flex-start;width: 50%;}#sk-container-id-1 div.sk-parallel-item:only-child::after {width: 0;}#sk-container-id-1 div.sk-dashed-wrapped {border: 1px dashed gray;margin: 0 0.4em 0.5em 0.4em;box-sizing: border-box;padding-bottom: 0.4em;background-color: white;}#sk-container-id-1 div.sk-label label {font-family: monospace;font-weight: bold;display: inline-block;line-height: 1.2em;}#sk-container-id-1 div.sk-label-container {text-align: center;}#sk-container-id-1 div.sk-container {/* jupyter's `normalize.less` sets `[hidden] { display: none; }` but bootstrap.min.css set `[hidden] { display: none !important; }` so we also need the `!important` here to be able to override the default hidden behavior on the sphinx rendered scikit-learn.org. See: https://github.com/scikit-learn/scikit-learn/issues/21755 */display: inline-block !important;position: relative;}#sk-container-id-1 div.sk-text-repr-fallback {display: none;}</style><div id=\"sk-container-id-1\" class=\"sk-top-container\"><div class=\"sk-text-repr-fallback\"><pre>KNeighborsClassifier()</pre><b>In a Jupyter environment, please rerun this cell to show the HTML representation or trust the notebook. <br />On GitHub, the HTML representation is unable to render, please try loading this page with nbviewer.org.</b></div><div class=\"sk-container\" hidden><div class=\"sk-item\"><div class=\"sk-estimator sk-toggleable\"><input class=\"sk-toggleable__control sk-hidden--visually\" id=\"sk-estimator-id-1\" type=\"checkbox\" checked><label for=\"sk-estimator-id-1\" class=\"sk-toggleable__label sk-toggleable__label-arrow\">KNeighborsClassifier</label><div class=\"sk-toggleable__content\"><pre>KNeighborsClassifier()</pre></div></div></div></div></div>"
      ],
      "text/plain": [
       "KNeighborsClassifier()"
      ]
     },
     "execution_count": 15,
     "metadata": {},
     "output_type": "execute_result"
    }
   ],
   "source": [
    "# Model K nearest neighbor\n",
    "knn = KNeighborsClassifier()\n",
    "knn.fit(x_train_clean, y_train)"
   ]
  },
  {
   "cell_type": "code",
   "execution_count": 16,
   "id": "b126f953-ea55-400e-8e38-383fafb22e0c",
   "metadata": {
    "tags": []
   },
   "outputs": [
    {
     "data": {
      "text/html": [
       "<style>#sk-container-id-2 {color: black;background-color: white;}#sk-container-id-2 pre{padding: 0;}#sk-container-id-2 div.sk-toggleable {background-color: white;}#sk-container-id-2 label.sk-toggleable__label {cursor: pointer;display: block;width: 100%;margin-bottom: 0;padding: 0.3em;box-sizing: border-box;text-align: center;}#sk-container-id-2 label.sk-toggleable__label-arrow:before {content: \"▸\";float: left;margin-right: 0.25em;color: #696969;}#sk-container-id-2 label.sk-toggleable__label-arrow:hover:before {color: black;}#sk-container-id-2 div.sk-estimator:hover label.sk-toggleable__label-arrow:before {color: black;}#sk-container-id-2 div.sk-toggleable__content {max-height: 0;max-width: 0;overflow: hidden;text-align: left;background-color: #f0f8ff;}#sk-container-id-2 div.sk-toggleable__content pre {margin: 0.2em;color: black;border-radius: 0.25em;background-color: #f0f8ff;}#sk-container-id-2 input.sk-toggleable__control:checked~div.sk-toggleable__content {max-height: 200px;max-width: 100%;overflow: auto;}#sk-container-id-2 input.sk-toggleable__control:checked~label.sk-toggleable__label-arrow:before {content: \"▾\";}#sk-container-id-2 div.sk-estimator input.sk-toggleable__control:checked~label.sk-toggleable__label {background-color: #d4ebff;}#sk-container-id-2 div.sk-label input.sk-toggleable__control:checked~label.sk-toggleable__label {background-color: #d4ebff;}#sk-container-id-2 input.sk-hidden--visually {border: 0;clip: rect(1px 1px 1px 1px);clip: rect(1px, 1px, 1px, 1px);height: 1px;margin: -1px;overflow: hidden;padding: 0;position: absolute;width: 1px;}#sk-container-id-2 div.sk-estimator {font-family: monospace;background-color: #f0f8ff;border: 1px dotted black;border-radius: 0.25em;box-sizing: border-box;margin-bottom: 0.5em;}#sk-container-id-2 div.sk-estimator:hover {background-color: #d4ebff;}#sk-container-id-2 div.sk-parallel-item::after {content: \"\";width: 100%;border-bottom: 1px solid gray;flex-grow: 1;}#sk-container-id-2 div.sk-label:hover label.sk-toggleable__label {background-color: #d4ebff;}#sk-container-id-2 div.sk-serial::before {content: \"\";position: absolute;border-left: 1px solid gray;box-sizing: border-box;top: 0;bottom: 0;left: 50%;z-index: 0;}#sk-container-id-2 div.sk-serial {display: flex;flex-direction: column;align-items: center;background-color: white;padding-right: 0.2em;padding-left: 0.2em;position: relative;}#sk-container-id-2 div.sk-item {position: relative;z-index: 1;}#sk-container-id-2 div.sk-parallel {display: flex;align-items: stretch;justify-content: center;background-color: white;position: relative;}#sk-container-id-2 div.sk-item::before, #sk-container-id-2 div.sk-parallel-item::before {content: \"\";position: absolute;border-left: 1px solid gray;box-sizing: border-box;top: 0;bottom: 0;left: 50%;z-index: -1;}#sk-container-id-2 div.sk-parallel-item {display: flex;flex-direction: column;z-index: 1;position: relative;background-color: white;}#sk-container-id-2 div.sk-parallel-item:first-child::after {align-self: flex-end;width: 50%;}#sk-container-id-2 div.sk-parallel-item:last-child::after {align-self: flex-start;width: 50%;}#sk-container-id-2 div.sk-parallel-item:only-child::after {width: 0;}#sk-container-id-2 div.sk-dashed-wrapped {border: 1px dashed gray;margin: 0 0.4em 0.5em 0.4em;box-sizing: border-box;padding-bottom: 0.4em;background-color: white;}#sk-container-id-2 div.sk-label label {font-family: monospace;font-weight: bold;display: inline-block;line-height: 1.2em;}#sk-container-id-2 div.sk-label-container {text-align: center;}#sk-container-id-2 div.sk-container {/* jupyter's `normalize.less` sets `[hidden] { display: none; }` but bootstrap.min.css set `[hidden] { display: none !important; }` so we also need the `!important` here to be able to override the default hidden behavior on the sphinx rendered scikit-learn.org. See: https://github.com/scikit-learn/scikit-learn/issues/21755 */display: inline-block !important;position: relative;}#sk-container-id-2 div.sk-text-repr-fallback {display: none;}</style><div id=\"sk-container-id-2\" class=\"sk-top-container\"><div class=\"sk-text-repr-fallback\"><pre>LogisticRegression(random_state=123)</pre><b>In a Jupyter environment, please rerun this cell to show the HTML representation or trust the notebook. <br />On GitHub, the HTML representation is unable to render, please try loading this page with nbviewer.org.</b></div><div class=\"sk-container\" hidden><div class=\"sk-item\"><div class=\"sk-estimator sk-toggleable\"><input class=\"sk-toggleable__control sk-hidden--visually\" id=\"sk-estimator-id-2\" type=\"checkbox\" checked><label for=\"sk-estimator-id-2\" class=\"sk-toggleable__label sk-toggleable__label-arrow\">LogisticRegression</label><div class=\"sk-toggleable__content\"><pre>LogisticRegression(random_state=123)</pre></div></div></div></div></div>"
      ],
      "text/plain": [
       "LogisticRegression(random_state=123)"
      ]
     },
     "execution_count": 16,
     "metadata": {},
     "output_type": "execute_result"
    }
   ],
   "source": [
    "# Model Logistic Regression\n",
    "logreg = LogisticRegression(random_state = 123)\n",
    "logreg.fit(x_train_clean, y_train)"
   ]
  },
  {
   "cell_type": "code",
   "execution_count": 17,
   "id": "19bbf07c-34cb-4cd7-a98b-d4c4ff74c364",
   "metadata": {
    "tags": []
   },
   "outputs": [
    {
     "data": {
      "text/html": [
       "<style>#sk-container-id-3 {color: black;background-color: white;}#sk-container-id-3 pre{padding: 0;}#sk-container-id-3 div.sk-toggleable {background-color: white;}#sk-container-id-3 label.sk-toggleable__label {cursor: pointer;display: block;width: 100%;margin-bottom: 0;padding: 0.3em;box-sizing: border-box;text-align: center;}#sk-container-id-3 label.sk-toggleable__label-arrow:before {content: \"▸\";float: left;margin-right: 0.25em;color: #696969;}#sk-container-id-3 label.sk-toggleable__label-arrow:hover:before {color: black;}#sk-container-id-3 div.sk-estimator:hover label.sk-toggleable__label-arrow:before {color: black;}#sk-container-id-3 div.sk-toggleable__content {max-height: 0;max-width: 0;overflow: hidden;text-align: left;background-color: #f0f8ff;}#sk-container-id-3 div.sk-toggleable__content pre {margin: 0.2em;color: black;border-radius: 0.25em;background-color: #f0f8ff;}#sk-container-id-3 input.sk-toggleable__control:checked~div.sk-toggleable__content {max-height: 200px;max-width: 100%;overflow: auto;}#sk-container-id-3 input.sk-toggleable__control:checked~label.sk-toggleable__label-arrow:before {content: \"▾\";}#sk-container-id-3 div.sk-estimator input.sk-toggleable__control:checked~label.sk-toggleable__label {background-color: #d4ebff;}#sk-container-id-3 div.sk-label input.sk-toggleable__control:checked~label.sk-toggleable__label {background-color: #d4ebff;}#sk-container-id-3 input.sk-hidden--visually {border: 0;clip: rect(1px 1px 1px 1px);clip: rect(1px, 1px, 1px, 1px);height: 1px;margin: -1px;overflow: hidden;padding: 0;position: absolute;width: 1px;}#sk-container-id-3 div.sk-estimator {font-family: monospace;background-color: #f0f8ff;border: 1px dotted black;border-radius: 0.25em;box-sizing: border-box;margin-bottom: 0.5em;}#sk-container-id-3 div.sk-estimator:hover {background-color: #d4ebff;}#sk-container-id-3 div.sk-parallel-item::after {content: \"\";width: 100%;border-bottom: 1px solid gray;flex-grow: 1;}#sk-container-id-3 div.sk-label:hover label.sk-toggleable__label {background-color: #d4ebff;}#sk-container-id-3 div.sk-serial::before {content: \"\";position: absolute;border-left: 1px solid gray;box-sizing: border-box;top: 0;bottom: 0;left: 50%;z-index: 0;}#sk-container-id-3 div.sk-serial {display: flex;flex-direction: column;align-items: center;background-color: white;padding-right: 0.2em;padding-left: 0.2em;position: relative;}#sk-container-id-3 div.sk-item {position: relative;z-index: 1;}#sk-container-id-3 div.sk-parallel {display: flex;align-items: stretch;justify-content: center;background-color: white;position: relative;}#sk-container-id-3 div.sk-item::before, #sk-container-id-3 div.sk-parallel-item::before {content: \"\";position: absolute;border-left: 1px solid gray;box-sizing: border-box;top: 0;bottom: 0;left: 50%;z-index: -1;}#sk-container-id-3 div.sk-parallel-item {display: flex;flex-direction: column;z-index: 1;position: relative;background-color: white;}#sk-container-id-3 div.sk-parallel-item:first-child::after {align-self: flex-end;width: 50%;}#sk-container-id-3 div.sk-parallel-item:last-child::after {align-self: flex-start;width: 50%;}#sk-container-id-3 div.sk-parallel-item:only-child::after {width: 0;}#sk-container-id-3 div.sk-dashed-wrapped {border: 1px dashed gray;margin: 0 0.4em 0.5em 0.4em;box-sizing: border-box;padding-bottom: 0.4em;background-color: white;}#sk-container-id-3 div.sk-label label {font-family: monospace;font-weight: bold;display: inline-block;line-height: 1.2em;}#sk-container-id-3 div.sk-label-container {text-align: center;}#sk-container-id-3 div.sk-container {/* jupyter's `normalize.less` sets `[hidden] { display: none; }` but bootstrap.min.css set `[hidden] { display: none !important; }` so we also need the `!important` here to be able to override the default hidden behavior on the sphinx rendered scikit-learn.org. See: https://github.com/scikit-learn/scikit-learn/issues/21755 */display: inline-block !important;position: relative;}#sk-container-id-3 div.sk-text-repr-fallback {display: none;}</style><div id=\"sk-container-id-3\" class=\"sk-top-container\"><div class=\"sk-text-repr-fallback\"><pre>RandomForestClassifier(random_state=123)</pre><b>In a Jupyter environment, please rerun this cell to show the HTML representation or trust the notebook. <br />On GitHub, the HTML representation is unable to render, please try loading this page with nbviewer.org.</b></div><div class=\"sk-container\" hidden><div class=\"sk-item\"><div class=\"sk-estimator sk-toggleable\"><input class=\"sk-toggleable__control sk-hidden--visually\" id=\"sk-estimator-id-3\" type=\"checkbox\" checked><label for=\"sk-estimator-id-3\" class=\"sk-toggleable__label sk-toggleable__label-arrow\">RandomForestClassifier</label><div class=\"sk-toggleable__content\"><pre>RandomForestClassifier(random_state=123)</pre></div></div></div></div></div>"
      ],
      "text/plain": [
       "RandomForestClassifier(random_state=123)"
      ]
     },
     "execution_count": 17,
     "metadata": {},
     "output_type": "execute_result"
    }
   ],
   "source": [
    "# Model Random Forest Classifier\n",
    "random_forest = RandomForestClassifier(random_state = 123)\n",
    "random_forest.fit(x_train_clean, y_train)"
   ]
  },
  {
   "cell_type": "markdown",
   "id": "cecf8fea-d619-4a3b-9a3d-f85d35bd96ee",
   "metadata": {},
   "source": [
    "### Prediction"
   ]
  },
  {
   "cell_type": "code",
   "execution_count": 18,
   "id": "1cc79658-88cc-4209-93e8-21de8f68ee9d",
   "metadata": {
    "tags": []
   },
   "outputs": [
    {
     "data": {
      "text/html": [
       "<div>\n",
       "<style scoped>\n",
       "    .dataframe tbody tr th:only-of-type {\n",
       "        vertical-align: middle;\n",
       "    }\n",
       "\n",
       "    .dataframe tbody tr th {\n",
       "        vertical-align: top;\n",
       "    }\n",
       "\n",
       "    .dataframe thead th {\n",
       "        text-align: right;\n",
       "    }\n",
       "</style>\n",
       "<table border=\"1\" class=\"dataframe\">\n",
       "  <thead>\n",
       "    <tr style=\"text-align: right;\">\n",
       "      <th></th>\n",
       "      <th>0</th>\n",
       "    </tr>\n",
       "  </thead>\n",
       "  <tbody>\n",
       "    <tr>\n",
       "      <th>0</th>\n",
       "      <td>0</td>\n",
       "    </tr>\n",
       "    <tr>\n",
       "      <th>1</th>\n",
       "      <td>0</td>\n",
       "    </tr>\n",
       "    <tr>\n",
       "      <th>2</th>\n",
       "      <td>1</td>\n",
       "    </tr>\n",
       "    <tr>\n",
       "      <th>3</th>\n",
       "      <td>1</td>\n",
       "    </tr>\n",
       "    <tr>\n",
       "      <th>4</th>\n",
       "      <td>0</td>\n",
       "    </tr>\n",
       "  </tbody>\n",
       "</table>\n",
       "</div>"
      ],
      "text/plain": [
       "   0\n",
       "0  0\n",
       "1  0\n",
       "2  1\n",
       "3  1\n",
       "4  0"
      ]
     },
     "execution_count": 18,
     "metadata": {},
     "output_type": "execute_result"
    }
   ],
   "source": [
    "predicted_logreg = pd.DataFrame(logreg.predict(x_train_clean))\n",
    "predicted_logreg.head()"
   ]
  },
  {
   "cell_type": "code",
   "execution_count": 19,
   "id": "faae5695-81d6-4965-88e9-971975cb9fbe",
   "metadata": {
    "tags": []
   },
   "outputs": [
    {
     "data": {
      "text/html": [
       "<div>\n",
       "<style scoped>\n",
       "    .dataframe tbody tr th:only-of-type {\n",
       "        vertical-align: middle;\n",
       "    }\n",
       "\n",
       "    .dataframe tbody tr th {\n",
       "        vertical-align: top;\n",
       "    }\n",
       "\n",
       "    .dataframe thead th {\n",
       "        text-align: right;\n",
       "    }\n",
       "</style>\n",
       "<table border=\"1\" class=\"dataframe\">\n",
       "  <thead>\n",
       "    <tr style=\"text-align: right;\">\n",
       "      <th></th>\n",
       "      <th>0</th>\n",
       "    </tr>\n",
       "  </thead>\n",
       "  <tbody>\n",
       "    <tr>\n",
       "      <th>0</th>\n",
       "      <td>0</td>\n",
       "    </tr>\n",
       "    <tr>\n",
       "      <th>1</th>\n",
       "      <td>0</td>\n",
       "    </tr>\n",
       "    <tr>\n",
       "      <th>2</th>\n",
       "      <td>0</td>\n",
       "    </tr>\n",
       "    <tr>\n",
       "      <th>3</th>\n",
       "      <td>1</td>\n",
       "    </tr>\n",
       "    <tr>\n",
       "      <th>4</th>\n",
       "      <td>0</td>\n",
       "    </tr>\n",
       "  </tbody>\n",
       "</table>\n",
       "</div>"
      ],
      "text/plain": [
       "   0\n",
       "0  0\n",
       "1  0\n",
       "2  0\n",
       "3  1\n",
       "4  0"
      ]
     },
     "execution_count": 19,
     "metadata": {},
     "output_type": "execute_result"
    }
   ],
   "source": [
    "predicted_knn = pd.DataFrame(knn.predict(x_train_clean))\n",
    "predicted_knn.head()"
   ]
  },
  {
   "cell_type": "code",
   "execution_count": 20,
   "id": "0e2a7e7e-efd9-4688-b868-e365591011a6",
   "metadata": {
    "tags": []
   },
   "outputs": [
    {
     "data": {
      "text/html": [
       "<div>\n",
       "<style scoped>\n",
       "    .dataframe tbody tr th:only-of-type {\n",
       "        vertical-align: middle;\n",
       "    }\n",
       "\n",
       "    .dataframe tbody tr th {\n",
       "        vertical-align: top;\n",
       "    }\n",
       "\n",
       "    .dataframe thead th {\n",
       "        text-align: right;\n",
       "    }\n",
       "</style>\n",
       "<table border=\"1\" class=\"dataframe\">\n",
       "  <thead>\n",
       "    <tr style=\"text-align: right;\">\n",
       "      <th></th>\n",
       "      <th>0</th>\n",
       "    </tr>\n",
       "  </thead>\n",
       "  <tbody>\n",
       "    <tr>\n",
       "      <th>0</th>\n",
       "      <td>0</td>\n",
       "    </tr>\n",
       "    <tr>\n",
       "      <th>1</th>\n",
       "      <td>0</td>\n",
       "    </tr>\n",
       "    <tr>\n",
       "      <th>2</th>\n",
       "      <td>0</td>\n",
       "    </tr>\n",
       "    <tr>\n",
       "      <th>3</th>\n",
       "      <td>1</td>\n",
       "    </tr>\n",
       "    <tr>\n",
       "      <th>4</th>\n",
       "      <td>0</td>\n",
       "    </tr>\n",
       "  </tbody>\n",
       "</table>\n",
       "</div>"
      ],
      "text/plain": [
       "   0\n",
       "0  0\n",
       "1  0\n",
       "2  0\n",
       "3  1\n",
       "4  0"
      ]
     },
     "execution_count": 20,
     "metadata": {},
     "output_type": "execute_result"
    }
   ],
   "source": [
    "predicted_rf = pd.DataFrame(random_forest.predict(x_train_clean))\n",
    "predicted_rf.head()"
   ]
  },
  {
   "cell_type": "code",
   "execution_count": 21,
   "id": "2ee87f4b-e2c5-4bee-9c06-10965c2ad2c0",
   "metadata": {
    "tags": []
   },
   "outputs": [
    {
     "data": {
      "text/plain": [
       "0.6875"
      ]
     },
     "execution_count": 21,
     "metadata": {},
     "output_type": "execute_result"
    }
   ],
   "source": [
    "benchmark = y_train.value_counts(normalize=True)[0]\n",
    "benchmark"
   ]
  },
  {
   "cell_type": "code",
   "execution_count": 22,
   "id": "ff5e9094-3136-4b46-b098-0706562d83d0",
   "metadata": {
    "tags": []
   },
   "outputs": [
    {
     "data": {
      "text/plain": [
       "0.8035714285714286"
      ]
     },
     "execution_count": 22,
     "metadata": {},
     "output_type": "execute_result"
    }
   ],
   "source": [
    "# akurasi knn\n",
    "knn.score(x_train_clean, y_train)"
   ]
  },
  {
   "cell_type": "code",
   "execution_count": 23,
   "id": "dc80567e-da1e-450c-b704-8486607ce8da",
   "metadata": {
    "tags": []
   },
   "outputs": [
    {
     "data": {
      "text/plain": [
       "0.8303571428571429"
      ]
     },
     "execution_count": 23,
     "metadata": {},
     "output_type": "execute_result"
    }
   ],
   "source": [
    "# akurasi logistic regression\n",
    "logreg.score(x_train_clean, y_train)"
   ]
  },
  {
   "cell_type": "code",
   "execution_count": 24,
   "id": "b1777157-c18a-40bb-9711-bec7f0304005",
   "metadata": {
    "tags": []
   },
   "outputs": [
    {
     "data": {
      "text/plain": [
       "1.0"
      ]
     },
     "execution_count": 24,
     "metadata": {},
     "output_type": "execute_result"
    }
   ],
   "source": [
    "# akurasi random forest\n",
    "random_forest.score(x_train_clean, y_train)"
   ]
  },
  {
   "cell_type": "markdown",
   "id": "8aa84f90-9ad8-4feb-a837-a7570ba6c788",
   "metadata": {
    "tags": []
   },
   "source": [
    "### Save ke Pickle"
   ]
  },
  {
   "cell_type": "code",
   "execution_count": 25,
   "id": "db3dda94-da9a-4e21-a5ab-9f4925b413e0",
   "metadata": {
    "tags": []
   },
   "outputs": [
    {
     "data": {
      "text/plain": [
       "['random_forest.pkl']"
      ]
     },
     "execution_count": 25,
     "metadata": {},
     "output_type": "execute_result"
    }
   ],
   "source": [
    "import joblib\n",
    "\n",
    "# Simpan model logreg ke dalam folder yang sama dengan notebook\n",
    "# dengan nama logreg.pkl\n",
    "joblib.dump(logreg, \"logreg.pkl\")\n",
    "\n",
    "joblib.dump(knn, \"knn.pkl\")\n",
    "\n",
    "joblib.dump(random_forest, \"random_forest.pkl\")\n",
    "#joblib.dump(random_forest_1, \"random_forest_1.pkl\")"
   ]
  },
  {
   "cell_type": "code",
   "execution_count": 26,
   "id": "3e5889bb-94d5-4fd4-9fe2-f83443f633d7",
   "metadata": {
    "tags": []
   },
   "outputs": [],
   "source": [
    "def extract_test(data, standardizer):\n",
    "    cleaned_data = pd.DataFrame(standardizer.transform(data))\n",
    "    cleaned_data.columns = data.columns\n",
    "    \n",
    "    return cleaned_data"
   ]
  },
  {
   "cell_type": "code",
   "execution_count": 27,
   "id": "5b197efc-063b-4b2c-8234-fc061d9df5f8",
   "metadata": {
    "tags": []
   },
   "outputs": [],
   "source": [
    "def testPrediction(x_test, y_test, classifier, compute_score):\n",
    "    \"\"\"\n",
    "    Fungsi untuk mendapatkan prediksi dari model\n",
    "    :param X_test: <pandas dataframe> input\n",
    "    :param y_test: <pandas series> output/target\n",
    "    :param classifier: <sklearn method> model klasifikasi\n",
    "    :param compute_score: <bool> True: menampilkan score, False: tidak\n",
    "    :return test_predict: <list> hasil prediksi data input\n",
    "    :return score: <float> akurasi model\n",
    "    \"\"\"\n",
    "    if compute_score:\n",
    "        score = classifier.score(x_test, y_test)\n",
    "        print(f\"Accuracy : {score:.4f}\")\n",
    "\n",
    "    test_predict = classifier.predict(x_test)\n",
    "\n",
    "    return test_predict, score"
   ]
  },
  {
   "cell_type": "code",
   "execution_count": 28,
   "id": "7b93a9c2-4557-454b-ab60-c8f80d3b41da",
   "metadata": {
    "tags": []
   },
   "outputs": [],
   "source": [
    "x_test_clean = extract_test(data = x_test,\n",
    "                           standardizer = standardizer)"
   ]
  },
  {
   "cell_type": "code",
   "execution_count": 29,
   "id": "974a9f9b-6e16-40ea-b74f-bfa01c7e84ec",
   "metadata": {},
   "outputs": [
    {
     "data": {
      "text/plain": [
       "(75, 12)"
      ]
     },
     "execution_count": 29,
     "metadata": {},
     "output_type": "execute_result"
    }
   ],
   "source": [
    "x_test_clean.shape"
   ]
  },
  {
   "cell_type": "code",
   "execution_count": 30,
   "id": "1114aecc-5596-462f-89a5-e5b415684aea",
   "metadata": {
    "tags": []
   },
   "outputs": [
    {
     "data": {
      "text/html": [
       "<div>\n",
       "<style scoped>\n",
       "    .dataframe tbody tr th:only-of-type {\n",
       "        vertical-align: middle;\n",
       "    }\n",
       "\n",
       "    .dataframe tbody tr th {\n",
       "        vertical-align: top;\n",
       "    }\n",
       "\n",
       "    .dataframe thead th {\n",
       "        text-align: right;\n",
       "    }\n",
       "</style>\n",
       "<table border=\"1\" class=\"dataframe\">\n",
       "  <thead>\n",
       "    <tr style=\"text-align: right;\">\n",
       "      <th></th>\n",
       "      <th>age</th>\n",
       "      <th>anaemia</th>\n",
       "      <th>creatinine_phosphokinase</th>\n",
       "      <th>diabetes</th>\n",
       "      <th>ejection_fraction</th>\n",
       "      <th>high_blood_pressure</th>\n",
       "      <th>platelets</th>\n",
       "      <th>serum_creatinine</th>\n",
       "      <th>serum_sodium</th>\n",
       "      <th>sex</th>\n",
       "      <th>smoking</th>\n",
       "      <th>time</th>\n",
       "    </tr>\n",
       "  </thead>\n",
       "  <tbody>\n",
       "    <tr>\n",
       "      <th>0</th>\n",
       "      <td>-1.617459</td>\n",
       "      <td>1.123666</td>\n",
       "      <td>-0.531949</td>\n",
       "      <td>-0.889944</td>\n",
       "      <td>-0.220354</td>\n",
       "      <td>-0.723747</td>\n",
       "      <td>1.005309</td>\n",
       "      <td>-0.289321</td>\n",
       "      <td>0.575432</td>\n",
       "      <td>0.752618</td>\n",
       "      <td>1.438226</td>\n",
       "      <td>0.915688</td>\n",
       "    </tr>\n",
       "    <tr>\n",
       "      <th>1</th>\n",
       "      <td>1.164144</td>\n",
       "      <td>-0.889944</td>\n",
       "      <td>-0.008393</td>\n",
       "      <td>-0.889944</td>\n",
       "      <td>0.216454</td>\n",
       "      <td>-0.723747</td>\n",
       "      <td>-0.001089</td>\n",
       "      <td>-0.203111</td>\n",
       "      <td>0.119160</td>\n",
       "      <td>0.752618</td>\n",
       "      <td>-0.695301</td>\n",
       "      <td>-0.312306</td>\n",
       "    </tr>\n",
       "    <tr>\n",
       "      <th>2</th>\n",
       "      <td>0.911271</td>\n",
       "      <td>1.123666</td>\n",
       "      <td>-0.506615</td>\n",
       "      <td>-0.889944</td>\n",
       "      <td>-1.093971</td>\n",
       "      <td>-0.723747</td>\n",
       "      <td>0.104282</td>\n",
       "      <td>-0.397082</td>\n",
       "      <td>0.803568</td>\n",
       "      <td>0.752618</td>\n",
       "      <td>1.438226</td>\n",
       "      <td>-0.860983</td>\n",
       "    </tr>\n",
       "    <tr>\n",
       "      <th>3</th>\n",
       "      <td>-0.184512</td>\n",
       "      <td>1.123666</td>\n",
       "      <td>-0.486560</td>\n",
       "      <td>-0.889944</td>\n",
       "      <td>0.653262</td>\n",
       "      <td>1.381699</td>\n",
       "      <td>0.975605</td>\n",
       "      <td>-0.289321</td>\n",
       "      <td>0.575432</td>\n",
       "      <td>0.752618</td>\n",
       "      <td>1.438226</td>\n",
       "      <td>-0.129413</td>\n",
       "    </tr>\n",
       "    <tr>\n",
       "      <th>4</th>\n",
       "      <td>-0.943131</td>\n",
       "      <td>-0.889944</td>\n",
       "      <td>-0.008393</td>\n",
       "      <td>-0.889944</td>\n",
       "      <td>2.138410</td>\n",
       "      <td>1.381699</td>\n",
       "      <td>-1.153196</td>\n",
       "      <td>-0.612605</td>\n",
       "      <td>0.803568</td>\n",
       "      <td>0.752618</td>\n",
       "      <td>1.438226</td>\n",
       "      <td>0.798114</td>\n",
       "    </tr>\n",
       "    <tr>\n",
       "      <th>...</th>\n",
       "      <td>...</td>\n",
       "      <td>...</td>\n",
       "      <td>...</td>\n",
       "      <td>...</td>\n",
       "      <td>...</td>\n",
       "      <td>...</td>\n",
       "      <td>...</td>\n",
       "      <td>...</td>\n",
       "      <td>...</td>\n",
       "      <td>...</td>\n",
       "      <td>...</td>\n",
       "      <td>...</td>\n",
       "    </tr>\n",
       "    <tr>\n",
       "      <th>70</th>\n",
       "      <td>-0.690258</td>\n",
       "      <td>-0.889944</td>\n",
       "      <td>-0.415838</td>\n",
       "      <td>-0.889944</td>\n",
       "      <td>1.963687</td>\n",
       "      <td>-0.723747</td>\n",
       "      <td>-0.430394</td>\n",
       "      <td>-0.720367</td>\n",
       "      <td>-0.793383</td>\n",
       "      <td>0.752618</td>\n",
       "      <td>1.438226</td>\n",
       "      <td>0.040416</td>\n",
       "    </tr>\n",
       "    <tr>\n",
       "      <th>71</th>\n",
       "      <td>0.068361</td>\n",
       "      <td>1.123666</td>\n",
       "      <td>0.068663</td>\n",
       "      <td>-0.889944</td>\n",
       "      <td>0.216454</td>\n",
       "      <td>-0.723747</td>\n",
       "      <td>0.193394</td>\n",
       "      <td>-0.720367</td>\n",
       "      <td>-0.793383</td>\n",
       "      <td>-1.328696</td>\n",
       "      <td>-0.695301</td>\n",
       "      <td>1.333728</td>\n",
       "    </tr>\n",
       "    <tr>\n",
       "      <th>72</th>\n",
       "      <td>1.164144</td>\n",
       "      <td>-0.889944</td>\n",
       "      <td>-0.497115</td>\n",
       "      <td>-0.889944</td>\n",
       "      <td>1.090070</td>\n",
       "      <td>1.381699</td>\n",
       "      <td>-0.153155</td>\n",
       "      <td>-0.289321</td>\n",
       "      <td>2.628654</td>\n",
       "      <td>0.752618</td>\n",
       "      <td>-0.695301</td>\n",
       "      <td>1.020198</td>\n",
       "    </tr>\n",
       "    <tr>\n",
       "      <th>73</th>\n",
       "      <td>0.911271</td>\n",
       "      <td>1.123666</td>\n",
       "      <td>0.372663</td>\n",
       "      <td>-0.889944</td>\n",
       "      <td>-1.093971</td>\n",
       "      <td>1.381699</td>\n",
       "      <td>0.737971</td>\n",
       "      <td>0.357249</td>\n",
       "      <td>0.575432</td>\n",
       "      <td>0.752618</td>\n",
       "      <td>1.438226</td>\n",
       "      <td>-0.260050</td>\n",
       "    </tr>\n",
       "    <tr>\n",
       "      <th>74</th>\n",
       "      <td>0.995562</td>\n",
       "      <td>1.123666</td>\n",
       "      <td>0.628108</td>\n",
       "      <td>-0.889944</td>\n",
       "      <td>0.216454</td>\n",
       "      <td>1.381699</td>\n",
       "      <td>-0.430394</td>\n",
       "      <td>-0.504844</td>\n",
       "      <td>1.031704</td>\n",
       "      <td>-1.328696</td>\n",
       "      <td>-0.695301</td>\n",
       "      <td>1.072453</td>\n",
       "    </tr>\n",
       "  </tbody>\n",
       "</table>\n",
       "<p>75 rows × 12 columns</p>\n",
       "</div>"
      ],
      "text/plain": [
       "         age   anaemia  creatinine_phosphokinase  diabetes  ejection_fraction  \\\n",
       "0  -1.617459  1.123666                 -0.531949 -0.889944          -0.220354   \n",
       "1   1.164144 -0.889944                 -0.008393 -0.889944           0.216454   \n",
       "2   0.911271  1.123666                 -0.506615 -0.889944          -1.093971   \n",
       "3  -0.184512  1.123666                 -0.486560 -0.889944           0.653262   \n",
       "4  -0.943131 -0.889944                 -0.008393 -0.889944           2.138410   \n",
       "..       ...       ...                       ...       ...                ...   \n",
       "70 -0.690258 -0.889944                 -0.415838 -0.889944           1.963687   \n",
       "71  0.068361  1.123666                  0.068663 -0.889944           0.216454   \n",
       "72  1.164144 -0.889944                 -0.497115 -0.889944           1.090070   \n",
       "73  0.911271  1.123666                  0.372663 -0.889944          -1.093971   \n",
       "74  0.995562  1.123666                  0.628108 -0.889944           0.216454   \n",
       "\n",
       "    high_blood_pressure  platelets  serum_creatinine  serum_sodium       sex  \\\n",
       "0             -0.723747   1.005309         -0.289321      0.575432  0.752618   \n",
       "1             -0.723747  -0.001089         -0.203111      0.119160  0.752618   \n",
       "2             -0.723747   0.104282         -0.397082      0.803568  0.752618   \n",
       "3              1.381699   0.975605         -0.289321      0.575432  0.752618   \n",
       "4              1.381699  -1.153196         -0.612605      0.803568  0.752618   \n",
       "..                  ...        ...               ...           ...       ...   \n",
       "70            -0.723747  -0.430394         -0.720367     -0.793383  0.752618   \n",
       "71            -0.723747   0.193394         -0.720367     -0.793383 -1.328696   \n",
       "72             1.381699  -0.153155         -0.289321      2.628654  0.752618   \n",
       "73             1.381699   0.737971          0.357249      0.575432  0.752618   \n",
       "74             1.381699  -0.430394         -0.504844      1.031704 -1.328696   \n",
       "\n",
       "     smoking      time  \n",
       "0   1.438226  0.915688  \n",
       "1  -0.695301 -0.312306  \n",
       "2   1.438226 -0.860983  \n",
       "3   1.438226 -0.129413  \n",
       "4   1.438226  0.798114  \n",
       "..       ...       ...  \n",
       "70  1.438226  0.040416  \n",
       "71 -0.695301  1.333728  \n",
       "72 -0.695301  1.020198  \n",
       "73  1.438226 -0.260050  \n",
       "74 -0.695301  1.072453  \n",
       "\n",
       "[75 rows x 12 columns]"
      ]
     },
     "execution_count": 30,
     "metadata": {},
     "output_type": "execute_result"
    }
   ],
   "source": [
    "x_test_clean"
   ]
  },
  {
   "cell_type": "code",
   "execution_count": 31,
   "id": "9749e09b-535b-4e02-ac67-a8658bb7505b",
   "metadata": {
    "tags": []
   },
   "outputs": [
    {
     "name": "stdout",
     "output_type": "stream",
     "text": [
      "Accuracy : 0.8000\n"
     ]
    }
   ],
   "source": [
    "# Logistic Regression Performance\n",
    "logreg_test_predict, score = testPrediction(x_test = x_test_clean,\n",
    "                                            y_test = y_test,\n",
    "                                            classifier = logreg,\n",
    "                                            compute_score = True)"
   ]
  },
  {
   "cell_type": "code",
   "execution_count": 32,
   "id": "26f5e0e6-3b54-4bbc-a22e-af8008775ea8",
   "metadata": {
    "tags": []
   },
   "outputs": [
    {
     "name": "stdout",
     "output_type": "stream",
     "text": [
      "Accuracy : 0.7067\n"
     ]
    }
   ],
   "source": [
    "# K nearest neighbor Performance\n",
    "knn_test_predict, score = testPrediction(x_test = x_test_clean,\n",
    "                                        y_test = y_test,\n",
    "                                        classifier = knn,\n",
    "                                        compute_score = True)"
   ]
  },
  {
   "cell_type": "code",
   "execution_count": 33,
   "id": "1bcc4718-25e4-4154-a3a7-ae809e8f688b",
   "metadata": {
    "tags": []
   },
   "outputs": [
    {
     "name": "stdout",
     "output_type": "stream",
     "text": [
      "Accuracy : 0.8667\n"
     ]
    }
   ],
   "source": [
    "# Random Forest Performance\n",
    "rf_test_predict, score = testPrediction(x_test = x_test_clean,\n",
    "                                        y_test = y_test,\n",
    "                                        classifier = random_forest,\n",
    "                                        compute_score = True)"
   ]
  },
  {
   "cell_type": "code",
   "execution_count": null,
   "id": "6b4afc44-6226-4b4b-8755-7259391bfead",
   "metadata": {},
   "outputs": [],
   "source": []
  }
 ],
 "metadata": {
  "kernelspec": {
   "display_name": "Python 3 (ipykernel)",
   "language": "python",
   "name": "python3"
  },
  "language_info": {
   "codemirror_mode": {
    "name": "ipython",
    "version": 3
   },
   "file_extension": ".py",
   "mimetype": "text/x-python",
   "name": "python",
   "nbconvert_exporter": "python",
   "pygments_lexer": "ipython3",
   "version": "3.10.9"
  }
 },
 "nbformat": 4,
 "nbformat_minor": 5
}
