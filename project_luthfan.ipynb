{
 "cells": [
  {
   "cell_type": "markdown",
   "id": "282e70fa-fd36-4969-bc97-cc0d14bff3c3",
   "metadata": {},
   "source": [
    "# Prediksi Gagal Jantung"
   ]
  },
  {
   "cell_type": "markdown",
   "id": "3cc427a9-bb77-48a6-b205-f69500fd5fe9",
   "metadata": {},
   "source": [
    "## Import Data"
   ]
  },
  {
   "cell_type": "code",
   "execution_count": 16,
   "id": "f77d6e06-32eb-40af-b4ad-00f9895ac00f",
   "metadata": {
    "tags": []
   },
   "outputs": [],
   "source": [
    "# Import library pengolahan struktur data\n",
    "import pandas as pd\n",
    "\n",
    "# Import library pengolahan angka\n",
    "import numpy as np"
   ]
  },
  {
   "cell_type": "code",
   "execution_count": 25,
   "id": "24d7134e-3fc0-41aa-9048-9d68f590a92b",
   "metadata": {
    "tags": []
   },
   "outputs": [
    {
     "name": "stdout",
     "output_type": "stream",
     "text": [
      "Source data :  /home/jovyan/work/project/heart_failure_clinical_records_dataset.csv\n",
      "Data asli :  (299, 13) (observasi, kolom)\n",
      "Data setelah drop dulikat : (299, 13) (observasi, kolom)\n"
     ]
    }
   ],
   "source": [
    "## Bikin Fungsinya\n",
    "def import_data(filename):\n",
    "    \"\"\"\n",
    "    Fungsi import data dan hapus duplikat\n",
    "    :param filename: string nama file.csv\n",
    "    :return df: <pandas data frame> sampel data\n",
    "    \"\"\"\n",
    "    \n",
    "    # print nama file\n",
    "    print(\"Source data : \",filename)\n",
    "    \n",
    "    # read data\n",
    "    df = pd.read_csv(filename)\n",
    "    print(\"Data asli : \",df.shape,\"(observasi, kolom)\")\n",
    "    \n",
    "    # hapus duplikat\n",
    "    df = df.drop_duplicates()\n",
    "    print(\"Data setelah drop dulikat :\",df.shape,\"(observasi, kolom)\")\n",
    "    \n",
    "    #jangan lupa return\n",
    "    return df\n",
    "    \n",
    "# state lokasi file\n",
    "data_src = \"/home/jovyan/work/project/heart_failure_clinical_records_dataset.csv\"\n",
    "\n",
    "# jalankan import data\n",
    "heartfail_df = import_data(filename = data_src)"
   ]
  },
  {
   "cell_type": "code",
   "execution_count": 26,
   "id": "ae701de1-16a3-4ae0-aa9d-6f82ab6c2f7d",
   "metadata": {
    "tags": []
   },
   "outputs": [
    {
     "data": {
      "text/html": [
       "<div>\n",
       "<style scoped>\n",
       "    .dataframe tbody tr th:only-of-type {\n",
       "        vertical-align: middle;\n",
       "    }\n",
       "\n",
       "    .dataframe tbody tr th {\n",
       "        vertical-align: top;\n",
       "    }\n",
       "\n",
       "    .dataframe thead th {\n",
       "        text-align: right;\n",
       "    }\n",
       "</style>\n",
       "<table border=\"1\" class=\"dataframe\">\n",
       "  <thead>\n",
       "    <tr style=\"text-align: right;\">\n",
       "      <th></th>\n",
       "      <th>age</th>\n",
       "      <th>anaemia</th>\n",
       "      <th>creatinine_phosphokinase</th>\n",
       "      <th>diabetes</th>\n",
       "      <th>ejection_fraction</th>\n",
       "      <th>high_blood_pressure</th>\n",
       "      <th>platelets</th>\n",
       "      <th>serum_creatinine</th>\n",
       "      <th>serum_sodium</th>\n",
       "      <th>sex</th>\n",
       "      <th>smoking</th>\n",
       "      <th>time</th>\n",
       "      <th>DEATH_EVENT</th>\n",
       "    </tr>\n",
       "  </thead>\n",
       "  <tbody>\n",
       "    <tr>\n",
       "      <th>0</th>\n",
       "      <td>75.0</td>\n",
       "      <td>0</td>\n",
       "      <td>582</td>\n",
       "      <td>0</td>\n",
       "      <td>20</td>\n",
       "      <td>1</td>\n",
       "      <td>265000.00</td>\n",
       "      <td>1.9</td>\n",
       "      <td>130</td>\n",
       "      <td>1</td>\n",
       "      <td>0</td>\n",
       "      <td>4</td>\n",
       "      <td>1</td>\n",
       "    </tr>\n",
       "    <tr>\n",
       "      <th>1</th>\n",
       "      <td>55.0</td>\n",
       "      <td>0</td>\n",
       "      <td>7861</td>\n",
       "      <td>0</td>\n",
       "      <td>38</td>\n",
       "      <td>0</td>\n",
       "      <td>263358.03</td>\n",
       "      <td>1.1</td>\n",
       "      <td>136</td>\n",
       "      <td>1</td>\n",
       "      <td>0</td>\n",
       "      <td>6</td>\n",
       "      <td>1</td>\n",
       "    </tr>\n",
       "    <tr>\n",
       "      <th>2</th>\n",
       "      <td>65.0</td>\n",
       "      <td>0</td>\n",
       "      <td>146</td>\n",
       "      <td>0</td>\n",
       "      <td>20</td>\n",
       "      <td>0</td>\n",
       "      <td>162000.00</td>\n",
       "      <td>1.3</td>\n",
       "      <td>129</td>\n",
       "      <td>1</td>\n",
       "      <td>1</td>\n",
       "      <td>7</td>\n",
       "      <td>1</td>\n",
       "    </tr>\n",
       "    <tr>\n",
       "      <th>3</th>\n",
       "      <td>50.0</td>\n",
       "      <td>1</td>\n",
       "      <td>111</td>\n",
       "      <td>0</td>\n",
       "      <td>20</td>\n",
       "      <td>0</td>\n",
       "      <td>210000.00</td>\n",
       "      <td>1.9</td>\n",
       "      <td>137</td>\n",
       "      <td>1</td>\n",
       "      <td>0</td>\n",
       "      <td>7</td>\n",
       "      <td>1</td>\n",
       "    </tr>\n",
       "    <tr>\n",
       "      <th>4</th>\n",
       "      <td>65.0</td>\n",
       "      <td>1</td>\n",
       "      <td>160</td>\n",
       "      <td>1</td>\n",
       "      <td>20</td>\n",
       "      <td>0</td>\n",
       "      <td>327000.00</td>\n",
       "      <td>2.7</td>\n",
       "      <td>116</td>\n",
       "      <td>0</td>\n",
       "      <td>0</td>\n",
       "      <td>8</td>\n",
       "      <td>1</td>\n",
       "    </tr>\n",
       "  </tbody>\n",
       "</table>\n",
       "</div>"
      ],
      "text/plain": [
       "    age  anaemia  creatinine_phosphokinase  diabetes  ejection_fraction  \\\n",
       "0  75.0        0                       582         0                 20   \n",
       "1  55.0        0                      7861         0                 38   \n",
       "2  65.0        0                       146         0                 20   \n",
       "3  50.0        1                       111         0                 20   \n",
       "4  65.0        1                       160         1                 20   \n",
       "\n",
       "   high_blood_pressure  platelets  serum_creatinine  serum_sodium  sex  \\\n",
       "0                    1  265000.00               1.9           130    1   \n",
       "1                    0  263358.03               1.1           136    1   \n",
       "2                    0  162000.00               1.3           129    1   \n",
       "3                    0  210000.00               1.9           137    1   \n",
       "4                    0  327000.00               2.7           116    0   \n",
       "\n",
       "   smoking  time  DEATH_EVENT  \n",
       "0        0     4            1  \n",
       "1        0     6            1  \n",
       "2        1     7            1  \n",
       "3        0     7            1  \n",
       "4        0     8            1  "
      ]
     },
     "execution_count": 26,
     "metadata": {},
     "output_type": "execute_result"
    }
   ],
   "source": [
    "heartfail_df.head()"
   ]
  },
  {
   "cell_type": "markdown",
   "id": "95935d98-3a1b-4125-9ed2-8644c4278152",
   "metadata": {
    "tags": []
   },
   "source": [
    "## Data Preprocessing"
   ]
  },
  {
   "cell_type": "code",
   "execution_count": 30,
   "id": "21f709e0-5a3b-49f8-b3e0-fe8a4ffcf513",
   "metadata": {
    "tags": []
   },
   "outputs": [],
   "source": [
    "# buat output data\n",
    "output_data = heartfail_df['DEATH_EVENT']\n",
    "\n",
    "# buat input data\n",
    "input_data = heartfail_df.drop('DEATH_EVENT', axis = 1)\n",
    "\n",
    "def extract_input_output"
   ]
  },
  {
   "cell_type": "code",
   "execution_count": null,
   "id": "8b7e12dc-f0d4-453e-acec-405230838750",
   "metadata": {},
   "outputs": [],
   "source": []
  },
  {
   "cell_type": "code",
   "execution_count": null,
   "id": "a87d2c66-ba48-45af-96df-492b2593436f",
   "metadata": {},
   "outputs": [],
   "source": []
  },
  {
   "cell_type": "code",
   "execution_count": null,
   "id": "184ec29c-7e1e-4baf-b7e3-93f5c63ab84e",
   "metadata": {},
   "outputs": [],
   "source": []
  },
  {
   "cell_type": "code",
   "execution_count": null,
   "id": "ad76e09a-00df-4b38-a24c-8bcea78eef4d",
   "metadata": {},
   "outputs": [],
   "source": []
  }
 ],
 "metadata": {
  "kernelspec": {
   "display_name": "Python 3 (ipykernel)",
   "language": "python",
   "name": "python3"
  },
  "language_info": {
   "codemirror_mode": {
    "name": "ipython",
    "version": 3
   },
   "file_extension": ".py",
   "mimetype": "text/x-python",
   "name": "python",
   "nbconvert_exporter": "python",
   "pygments_lexer": "ipython3",
   "version": "3.10.9"
  }
 },
 "nbformat": 4,
 "nbformat_minor": 5
}
